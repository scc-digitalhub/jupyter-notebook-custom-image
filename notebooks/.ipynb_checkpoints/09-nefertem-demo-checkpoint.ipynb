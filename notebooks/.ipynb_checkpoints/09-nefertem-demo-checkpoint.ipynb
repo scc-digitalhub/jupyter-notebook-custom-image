{
 "cells": [
  {
   "cell_type": "code",
   "execution_count": null,
   "id": "ac11d11c-d6ae-4d85-892d-a3c8e6473f45",
   "metadata": {},
   "outputs": [],
   "source": [
    "import digitalhub_core as dhcore\n",
    "\n",
    "# Get or create project\n",
    "project = dhcore.get_or_create_project(\"project-nefertem\")\n",
    "\n",
    "# Create dataitem\n",
    "url = \"https://media.githubusercontent.com/media/datablist/sample-csv-files/main/files/organizations/organizations-1000.csv\"\n",
    "di = project.new_dataitem(name=\"organizations\",\n",
    "                          kind=\"dataitem\",\n",
    "                          path=url)\n",
    "\n",
    "# Create function\n",
    "constraint = {\n",
    "  'constraint': 'type',\n",
    "  'field': 'Country',\n",
    "  'field_type': 'string',\n",
    "  'name': 'check_country_string',\n",
    "  'resources': ['organizations'],\n",
    "  'title': '',\n",
    "  'type': 'frictionless',\n",
    "  'value': 'string',\n",
    "  'weight': 5\n",
    "}\n",
    "function = project.new_function(name=\"function-nefertem\",\n",
    "                                kind=\"nefertem\",\n",
    "                                constraints=[constraint])\n",
    "\n",
    "# Run validate task\n",
    "nefertem_run_config = {\n",
    "        \"operation\": \"validation\",\n",
    "        \"exec_config\": [{\"framework\": \"frictionless\"}]\n",
    "}\n",
    "run = function.run(\"validate\",\n",
    "                   run_config=nefertem_run_config,\n",
    "                   inputs={\"dataitems\": [\"organizations\"]})\n",
    "\n",
    "# Refresh run\n",
    "run.refresh()"
   ]
  }
 ],
 "metadata": {
  "kernelspec": {
   "display_name": "Python 3 (ipykernel)",
   "language": "python",
   "name": "python3"
  },
  "language_info": {
   "codemirror_mode": {
    "name": "ipython",
    "version": 3
   },
   "file_extension": ".py",
   "mimetype": "text/x-python",
   "name": "python",
   "nbconvert_exporter": "python",
   "pygments_lexer": "ipython3",
   "version": "3.9.18"
  }
 },
 "nbformat": 4,
 "nbformat_minor": 5
}
