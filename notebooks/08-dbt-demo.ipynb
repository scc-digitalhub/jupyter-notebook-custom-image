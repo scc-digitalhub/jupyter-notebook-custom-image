{
 "cells": [
  {
   "cell_type": "code",
   "execution_count": null,
   "id": "ac11d11c-d6ae-4d85-892d-a3c8e6473f45",
   "metadata": {},
   "outputs": [],
   "source": [
    "import digitalhub_core as dhcore\n",
    "\n",
    "# Get or create project\n",
    "project = dhcore.get_or_create_project(\"project-dbt\")\n",
    "\n",
    "# Create new input dataitem\n",
    "url = \"https://media.githubusercontent.com/media/datablist/sample-csv-files/main/files/organizations/organizations-1000.csv\"\n",
    "di = project.new_dataitem(name=\"organizations\",\n",
    "                          kind=\"dataitem\",\n",
    "                          path=url)\n",
    "\n",
    "# Create new function\n",
    "sql = \"\"\"\n",
    "WITH tab AS (\n",
    "    SELECT  *\n",
    "    FROM    {{ ref('organizations') }}\n",
    ")\n",
    "SELECT  *\n",
    "FROM    tab\n",
    "WHERE   tab.\"Country\" = 'Algeria'\n",
    "\"\"\"\n",
    "function = project.new_function(name=\"algerian-organizations\",\n",
    "                                kind=\"dbt\",\n",
    "                                sql=sql)\n",
    "\n",
    "# Run function\n",
    "run = function.run(\"transform\",\n",
    "                   inputs={\"dataitems\": [\"organizations\"]},\n",
    "                   outputs={\"dataitems\": [\"algerian-organizations\"]})"
   ]
  }
 ],
 "metadata": {
  "kernelspec": {
   "display_name": "Python 3 (ipykernel)",
   "language": "python",
   "name": "python3"
  },
  "language_info": {
   "codemirror_mode": {
    "name": "ipython",
    "version": 3
   },
   "file_extension": ".py",
   "mimetype": "text/x-python",
   "name": "python",
   "nbconvert_exporter": "python",
   "pygments_lexer": "ipython3",
   "version": "3.9.18"
  }
 },
 "nbformat": 4,
 "nbformat_minor": 5
}
