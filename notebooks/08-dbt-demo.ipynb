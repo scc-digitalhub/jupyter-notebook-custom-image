{
 "cells": [
  {
   "cell_type": "code",
   "execution_count": null,
   "id": "ac11d11c-d6ae-4d85-892d-a3c8e6473f45",
   "metadata": {},
   "outputs": [],
   "source": [
    "import digitalhub as dh\n",
    "\n",
    "# Get or create project\n",
    "project = dh.get_or_create_project(\"project-dbt\")\n",
    "\n",
    "# Create new input dataitem\n",
    "url = \"https://gist.githubusercontent.com/kevin336/acbb2271e66c10a5b73aacf82ca82784/raw/e38afe62e088394d61ed30884dd50a6826eee0a8/employees.csv\"\n",
    "di = project.new_dataitem(name=\"employees\",\n",
    "                          kind=\"table\",\n",
    "                          path=url)\n",
    "\n",
    "# Create new function\n",
    "sql = \"\"\"\n",
    "WITH tab AS (\n",
    "    SELECT  *\n",
    "    FROM    {{ ref('employees') }}\n",
    ")\n",
    "SELECT  *\n",
    "FROM    tab\n",
    "WHERE   tab.\"DEPARTMENT_ID\" = '60'\n",
    "\"\"\"\n",
    "function = project.new_function(name=\"function-dbt\",\n",
    "                                kind=\"dbt\",\n",
    "                                sql=sql)\n",
    "\n",
    "# Run function\n",
    "run = function.run(\"transform\",\n",
    "                   inputs={\"dataitems\": [\"employees\"]},\n",
    "                   outputs={\"dataitems\": [\"department-60\"]})\n",
    "\n",
    "# Refresh run\n",
    "run.refresh()"
   ]
  }
 ],
 "metadata": {
  "kernelspec": {
   "display_name": "digitalhub-core",
   "language": "python",
   "name": "digitalhub-core"
  },
  "language_info": {
   "codemirror_mode": {
    "name": "ipython",
    "version": 3
   },
   "file_extension": ".py",
   "mimetype": "text/x-python",
   "name": "python",
   "nbconvert_exporter": "python",
   "pygments_lexer": "ipython3",
   "version": "3.9.18"
  }
 },
 "nbformat": 4,
 "nbformat_minor": 5
}
