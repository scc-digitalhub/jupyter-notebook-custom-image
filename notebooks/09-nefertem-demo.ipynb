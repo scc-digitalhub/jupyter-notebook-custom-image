{
 "cells": [
  {
   "cell_type": "code",
   "execution_count": null,
   "id": "ac11d11c-d6ae-4d85-892d-a3c8e6473f45",
   "metadata": {},
   "outputs": [],
   "source": [
    "import digitalhub as dh\n",
    "\n",
    "# Get or create project\n",
    "project = dh.get_or_create_project(\"project-nefertem\")\n",
    "\n",
    "# Create dataitem\n",
    "url = \"https://gist.githubusercontent.com/kevin336/acbb2271e66c10a5b73aacf82ca82784/raw/e38afe62e088394d61ed30884dd50a6826eee0a8/employees.csv\"\n",
    "di = project.new_dataitem(name=\"employees\",\n",
    "                          kind=\"dataitem\",\n",
    "                          path=url)\n",
    "\n",
    "# Create function\n",
    "constraint = {\n",
    "  'constraint': 'type',\n",
    "  'field': 'SALARY',\n",
    "  'field_type': 'number',\n",
    "  'name': 'check_value_integer',\n",
    "  'title': '',\n",
    "  'resources': ['employees'],\n",
    "  'type': 'frictionless',\n",
    "  'value': 'number',\n",
    "  'weight': 5\n",
    "}\n",
    "function = project.new_function(name=\"function-nefertem\",\n",
    "                                kind=\"nefertem\",\n",
    "                                constraints=[constraint])\n",
    "\n",
    "# Run validate task\n",
    "run = function.run(\"validate\",\n",
    "                   framework=\"frictionless\",\n",
    "                   inputs={\"dataitems\": [\"employees\"]},)\n",
    "\n",
    "# Refresh run\n",
    "run.refresh()"
   ]
  }
 ],
 "metadata": {
  "kernelspec": {
   "display_name": "digitalhub-core",
   "language": "python",
   "name": "digitalhub-core"
  },
  "language_info": {
   "codemirror_mode": {
    "name": "ipython",
    "version": 3
   },
   "file_extension": ".py",
   "mimetype": "text/x-python",
   "name": "python",
   "nbconvert_exporter": "python",
   "pygments_lexer": "ipython3",
   "version": "3.9.18"
  }
 },
 "nbformat": 4,
 "nbformat_minor": 5
}
