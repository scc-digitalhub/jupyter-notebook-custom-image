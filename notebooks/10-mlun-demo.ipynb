{
 "cells": [
  {
   "cell_type": "code",
   "execution_count": null,
   "id": "d2a38cd4-fe4b-4cb2-a7fe-af721afb2019",
   "metadata": {},
   "outputs": [],
   "source": [
    "import digitalhub as dh\n",
    "\n",
    "loc = True\n",
    "\n",
    "# Get or create project\n",
    "project = dh.get_or_create_project(\"project-mlrun\", local=loc)\n",
    "\n",
    "# Create new input dataitem\n",
    "url = \"https://opendata.comune.bologna.it/api/explore/v2.1/catalog/datasets/rilevazione-flusso-veicoli-tramite-spire-anno-2023/exports/csv?lang=it&timezone=Europe%2FRome&use_labels=true&delimiter=%3B\"\n",
    "url = \"s3://datalake/projects/project-mlrun/artifacts/mlrun-downloader-downloader/0/dataset.parquet\"\n",
    "\n",
    "# Create new dataitem\n",
    "dataitem = project.new_dataitem(name=\"url-dataitem\", path=url)\n",
    "\n",
    "# Create new function\n",
    "downloader_function = project.new_function(name=\"mlrun-downloader\",\n",
    "                                           kind=\"mlrun\",\n",
    "                                           source_code=\"pipeline.py\",\n",
    "                                           handler=\"downloader\",\n",
    "                                           image=\"mlrun/mlrun\")\n",
    "\n",
    "# Run function\n",
    "downloader_run = downloader_function.run(\"job\",\n",
    "                                         inputs={\"dataitems\": {\"url\": \"url-dataitem\"}},\n",
    "                                         local_execution=loc)"
   ]
  },
  {
   "cell_type": "code",
   "execution_count": null,
   "id": "4a617bfa-99fc-41be-ba87-8c1ce0202308",
   "metadata": {},
   "outputs": [],
   "source": [
    "# Create new function\n",
    "processer_function = project.new_function(name=\"mlrun-processer\",\n",
    "                                          kind=\"mlrun\",\n",
    "                                          source_code=\"pipeline.py\",\n",
    "                                          handler=\"process\",\n",
    "                                          image=\"mlrun/mlrun\")\n",
    "\n",
    "# Run function\n",
    "processer_run = processer_function.run(\"job\",\n",
    "                                       inputs={\"dataitems\":{\"di\": \"dataset\"}},\n",
    "                                       local_execution=loc)"
   ]
  },
  {
   "cell_type": "code",
   "execution_count": null,
   "id": "48722aee-16ab-4027-8e72-24f15a6b52c7",
   "metadata": {},
   "outputs": [],
   "source": [
    "# Create new function\n",
    "measure_function = project.new_function(name=\"mlrun-measure\",\n",
    "                                        kind=\"mlrun\",\n",
    "                                        source_code=\"pipeline.py\",\n",
    "                                        handler=\"measure\",\n",
    "                                        image=\"mlrun/mlrun\")\n",
    "\n",
    "# Run function\n",
    "measure_run = measure_function.run(\"job\",\n",
    "                                   inputs={\"dataitems\":{\"di\": \"dataset\"}},\n",
    "                                   local_execution=loc)"
   ]
  }
 ],
 "metadata": {
  "kernelspec": {
   "display_name": "digitalhub-core",
   "language": "python",
   "name": "digitalhub-core"
  },
  "language_info": {
   "codemirror_mode": {
    "name": "ipython",
    "version": 3
   },
   "file_extension": ".py",
   "mimetype": "text/x-python",
   "name": "python",
   "nbconvert_exporter": "python",
   "pygments_lexer": "ipython3",
   "version": "3.9.18"
  }
 },
 "nbformat": 4,
 "nbformat_minor": 5
}
