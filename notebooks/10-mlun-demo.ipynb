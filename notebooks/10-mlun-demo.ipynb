{
 "cells": [
  {
   "cell_type": "code",
   "execution_count": null,
   "id": "d2a38cd4-fe4b-4cb2-a7fe-af721afb2019",
   "metadata": {},
   "outputs": [],
   "source": [
    "import digitalhub as dh\n",
    "\n",
    "# Get or create project\n",
    "project = dh.get_or_create_project(\"project-mlrun\")\n",
    "\n",
    "# Create new dataitem\n",
    "url = \"https://opendata.comune.bologna.it/api/explore/v2.1/catalog/datasets/rilevazione-flusso-veicoli-tramite-spire-anno-2023/exports/csv?lang=it&timezone=Europe%2FRome&use_labels=true&delimiter=%3B\"\n",
    "url_dataitem = project.new_dataitem(name=\"url-dataitem\",\n",
    "                                    kind=\"table\",\n",
    "                                    path=url)\n",
    "\n",
    "# Download dataitem as pandas.Dataframe and upload dataframe to minio\n",
    "df = url_dataitem.as_df(file_format=\"csv\", sep=\";\")\n",
    "s3_path = url_dataitem.write_df(df=df)\n",
    "\n",
    "\n",
    "# Create stored new dataitem\n",
    "s3_dataitem = project.new_dataitem(name=\"table-spire\",\n",
    "                                   kind=\"table\",\n",
    "                                   path=s3_path)"
   ]
  },
  {
   "cell_type": "code",
   "execution_count": null,
   "id": "b43996c5-d998-4ddf-bcfe-51d8077b6149",
   "metadata": {},
   "outputs": [],
   "source": [
    "%%writefile \"download-data.py\"\n",
    "\n",
    "import mlrun\n",
    "\n",
    "@mlrun.handler(outputs=[\"dataset\"])\n",
    "def downloader(context, url: mlrun.DataItem):\n",
    "    df = url.as_df(format=\"parquet\")\n",
    "    return df"
   ]
  },
  {
   "cell_type": "code",
   "execution_count": null,
   "id": "5dfa45b9-347b-42ab-a136-81fac44331da",
   "metadata": {},
   "outputs": [],
   "source": [
    "# Create new function\n",
    "downloader_function = project.new_function(name=\"mlrun-downloader\",\n",
    "                                           kind=\"mlrun\",\n",
    "                                           source={\"source\":\"download-data.py\"},\n",
    "                                           handler=\"downloader\")\n",
    "\n",
    "# Run function with input reference to new dataitem\n",
    "downloader_run = downloader_function.run(\"job\",\n",
    "                                         inputs={\"url\": s3_dataitem.key},\n",
    "                                         outputs={\"dataset\": \"dataset\"})\n",
    "\n",
    "# Run refresh\n",
    "downloader_run.refresh()"
   ]
  },
  {
   "cell_type": "code",
   "execution_count": null,
   "id": "84ce3dd8-ad12-49c6-a853-7b0400aa0268",
   "metadata": {},
   "outputs": [],
   "source": [
    "from time import time, sleep\n",
    "\n",
    "start = time()\n",
    "max_time = 180\n",
    "while True:\n",
    "    if (time() - start) > max_time:\n",
    "        raise Exception(f\"Timed out waiting: run status is {downloader_run.status.state}\")\n",
    "    downloader_run.refresh()\n",
    "    if downloader_run.status.state == \"ERROR\":\n",
    "        raise Exception(f\"Something got wrong with run: {downloader_run.status.state} - {downloader_run.status.message}\")\n",
    "    try:\n",
    "        input_key = downloader_run.outputs()[\"dataset\"].key\n",
    "        print(\"Run finished.\")\n",
    "        break\n",
    "    except IndexError:\n",
    "        sleep(5)"
   ]
  },
  {
   "cell_type": "code",
   "execution_count": null,
   "id": "3a2d6afb-0bee-4129-85f4-05e81273f75b",
   "metadata": {},
   "outputs": [],
   "source": [
    "%%writefile \"process-spire.py\"\n",
    "\n",
    "import mlrun\n",
    "\n",
    "KEYS=['codice spira','longitudine','latitudine','Livello','tipologia','codice','codice arco','codice via','Nome via', 'stato','direzione','angolo','geopoint']\n",
    "\n",
    "@mlrun.handler(outputs=[\"dataset-spire\"])\n",
    "def process_spire(context, di: mlrun.DataItem):\n",
    "    df = di.as_df()\n",
    "    sdf= df.groupby(['codice spira']).first().reset_index()[KEYS]\n",
    "    return sdf"
   ]
  },
  {
   "cell_type": "code",
   "execution_count": null,
   "id": "4e23560c-5bad-437d-aba0-cd51cf668977",
   "metadata": {},
   "outputs": [],
   "source": [
    "# Create processing spire function\n",
    "process_spire_function = project.new_function(name=\"mlrun-process-spire\",\n",
    "                                              kind=\"mlrun\",\n",
    "                                              source={\"source\":\"process-spire.py\"},\n",
    "                                              handler=\"process_spire\",\n",
    "                                              image=\"mlrun/mlrun\")\n",
    "process_spire_run = process_spire_function.run(\"job\",\n",
    "                                               inputs={\"di\": input_key},\n",
    "                                               outputs={\"dataset-spire\": \"dataset-spire\"})\n",
    "process_spire_run.refresh()"
   ]
  },
  {
   "cell_type": "code",
   "execution_count": null,
   "id": "5297e3bb-ab9a-4fcc-91fc-4e9902af2faa",
   "metadata": {},
   "outputs": [],
   "source": [
    "%%writefile \"process-measures.py\"\n",
    "\n",
    "import mlrun\n",
    "import pandas as pd\n",
    "\n",
    "KEYS = ['00:00-01:00', '01:00-02:00', '02:00-03:00', '03:00-04:00', '04:00-05:00', '05:00-06:00', '06:00-07:00', '07:00-08:00', '08:00-09:00', '09:00-10:00', '10:00-11:00', '11:00-12:00', '12:00-13:00', '13:00-14:00', '14:00-15:00', '15:00-16:00', '16:00-17:00', '17:00-18:00', '18:00-19:00', '19:00-20:00', '20:00-21:00', '21:00-22:00', '22:00-23:00', '23:00-24:00']\n",
    "COLUMNS=['data','codice spira']\n",
    "\n",
    "@mlrun.handler(outputs=[\"dataset-measures\"])\n",
    "def process_measure(context, di: mlrun.DataItem):\n",
    "    df = di.as_df()\n",
    "    rdf = df[COLUMNS+KEYS]\n",
    "    ls = []\n",
    "    for key in KEYS:\n",
    "        k = key.split(\"-\")[0]\n",
    "        xdf = rdf[COLUMNS + [key]]\n",
    "        xdf['time'] = xdf.data.apply(lambda x: x+' ' +k)\n",
    "        xdf['value'] = xdf[key]\n",
    "        ls.append(xdf[['time','codice spira','value']])\n",
    "    edf = pd.concat(ls)\n",
    "    return edf"
   ]
  },
  {
   "cell_type": "code",
   "execution_count": null,
   "id": "e09e737d-5378-4d8c-89e0-02f70df01612",
   "metadata": {},
   "outputs": [],
   "source": [
    "# Create measure function\n",
    "process_measure_function = project.new_function(name=\"mlrun-process-measure\",\n",
    "                                                kind=\"mlrun\",\n",
    "                                                source={\"source\":\"process-measures.py\"},\n",
    "                                                handler=\"process_measure\",\n",
    "                                                image=\"mlrun/mlrun\")\n",
    "process_measure_run = process_measure_function.run(\"job\",\n",
    "                                                   inputs={\"di\": input_key},\n",
    "                                                   outputs={\"dataset-measures\": \"dataset-measures\"})\n",
    "process_measure_run.refresh()"
   ]
  }
 ],
 "metadata": {
  "kernelspec": {
   "display_name": "Python 3 (ipykernel)",
   "language": "python",
   "name": "python3"
  },
  "language_info": {
   "codemirror_mode": {
    "name": "ipython",
    "version": 3
   },
   "file_extension": ".py",
   "mimetype": "text/x-python",
   "name": "python",
   "nbconvert_exporter": "python",
   "pygments_lexer": "ipython3",
   "version": "3.9.19"
  }
 },
 "nbformat": 4,
 "nbformat_minor": 5
}
