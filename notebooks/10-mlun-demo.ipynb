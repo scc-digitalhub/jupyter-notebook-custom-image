{
 "cells": [
  {
   "cell_type": "code",
   "execution_count": null,
   "id": "d2a38cd4-fe4b-4cb2-a7fe-af721afb2019",
   "metadata": {},
   "outputs": [],
   "source": [
    "import digitalhub as dh\n",
    "\n",
    "# Get or create project\n",
    "project = dh.get_or_create_project(\"project-mlrun\")\n",
    "\n",
    "# Create new input dataitem\n",
    "url = \"https://gist.githubusercontent.com/kevin336/acbb2271e66c10a5b73aacf82ca82784/raw/e38afe62e088394d61ed30884dd50a6826eee0a8/employees.csv\"\n",
    "\n",
    "# Create new dataitem\n",
    "dataitem = project.new_dataitem(name=\"url-dataitem\",\n",
    "                                kind=\"table\",\n",
    "                                path=url)\n",
    "\n",
    "# Create new function\n",
    "downloader_function = project.new_function(name=\"mlrun-downloader\",\n",
    "                                           kind=\"mlrun\",\n",
    "                                           source_code=\"pipeline.py\",\n",
    "                                           handler=\"downloader\",\n",
    "                                           image=\"mlrun/mlrun\")\n",
    "\n",
    "# Run function\n",
    "downloader_run = downloader_function.run(\"job\",\n",
    "                                         inputs=[{\"url\": dataitem.key}])"
   ]
  }
 ],
 "metadata": {
  "kernelspec": {
   "display_name": "Python 3 (ipykernel)",
   "language": "python",
   "name": "python3"
  },
  "language_info": {
   "codemirror_mode": {
    "name": "ipython",
    "version": 3
   },
   "file_extension": ".py",
   "mimetype": "text/x-python",
   "name": "python",
   "nbconvert_exporter": "python",
   "pygments_lexer": "ipython3",
   "version": "3.9.18"
  }
 },
 "nbformat": 4,
 "nbformat_minor": 5
}
