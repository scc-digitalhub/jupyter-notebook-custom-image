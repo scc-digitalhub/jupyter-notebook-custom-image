{
 "cells": [
  {
   "cell_type": "code",
   "execution_count": null,
   "metadata": {},
   "outputs": [],
   "source": [
    "import digitalhub as dh\n",
    "\n",
    "proj = dh.get_or_create_project(\"project-container\")"
   ]
  },
  {
   "cell_type": "code",
   "execution_count": null,
   "metadata": {},
   "outputs": [],
   "source": [
    "# Run container\n",
    "\n",
    "func_cont = proj.new_function(name=\"function-container\",\n",
    "                              kind=\"container\",\n",
    "                              image=\"hello-world:latest\")\n",
    "run_cont = func_cont.run(\"job\")"
   ]
  },
  {
   "cell_type": "code",
   "execution_count": null,
   "metadata": {},
   "outputs": [],
   "source": [
    "# Serve stremlit service\n",
    "\n",
    "func_serve = proj.new_function(name=\"function-serve\",\n",
    "                               kind=\"container\",\n",
    "                               image=\"ghcr.io/scc-digitalhub/digitalhub-core-streamlit:latest\")\n",
    "run_serve = func_serve.run(\"serve\",\n",
    "                           service_ports= [{\"port\": 8085, \"target_port\": 8501}],\n",
    "                           service_type=\"NodePort\")"
   ]
  }
 ],
 "metadata": {
  "language_info": {
   "name": "python"
  }
 },
 "nbformat": 4,
 "nbformat_minor": 2
}
