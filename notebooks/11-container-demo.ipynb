{
 "cells": [
  {
   "cell_type": "code",
   "execution_count": null,
   "metadata": {},
   "outputs": [],
   "source": [
    "import digitalhub as dh\n",
    "\n",
    "proj = dh.get_or_create_project(\"project-container\")"
   ]
  },
  {
   "cell_type": "code",
   "execution_count": null,
   "metadata": {},
   "outputs": [],
   "source": [
    "# Run container\n",
    "\n",
    "func_cont = proj.new_function(name=\"function-container\",\n",
    "                              kind=\"container\",\n",
    "                              image=\"hello-world:latest\")\n",
    "run_cont = func_cont.run(\"job\")"
   ]
  }
 ],
 "metadata": {
  "kernelspec": {
   "display_name": "Python 3 (ipykernel)",
   "language": "python",
   "name": "python3"
  },
  "language_info": {
   "name": "python"
  }
 },
 "nbformat": 4,
 "nbformat_minor": 2
}
