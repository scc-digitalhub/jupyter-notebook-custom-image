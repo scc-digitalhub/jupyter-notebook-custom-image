{
 "cells": [
  {
   "cell_type": "code",
   "execution_count": null,
   "metadata": {},
   "outputs": [],
   "source": [
    "import digitalhub as dh\n",
    "\n",
    "proj = dh.get_or_create_project(\"project-container\")"
   ]
  },
  {
   "cell_type": "code",
   "execution_count": null,
   "metadata": {},
   "outputs": [],
   "source": [
    "# Run container job\n",
    "\n",
    "func_cont = proj.new_function(name=\"function-container\",\n",
    "                              kind=\"container\",\n",
    "                              image=\"hello-world:latest\")\n",
    "run_cont = func_cont.run(\"job\")"
   ]
  },
  {
   "cell_type": "code",
   "execution_count": null,
   "metadata": {},
   "outputs": [],
   "source": [
    "# Build a container\n",
    "\n",
    "# First compress and upload the code to S3\n",
    "import os\n",
    "from pathlib import Path\n",
    "from zipfile import ZipFile\n",
    "\n",
    "code_zip = \"streamlit-code.zip\"\n",
    "with ZipFile(code_zip, 'w') as f:\n",
    "    for root, _, files in os.walk(\"streamlit-code\"):\n",
    "        for file in files:\n",
    "            file_path = Path(root, file)\n",
    "            f.write(file_path, file)\n",
    "\n",
    "remote_path = \"s3://datalake/streamlit-code.zip\"\n",
    "art = proj.new_artifact(name=\"streamlit-code\",\n",
    "                        kind=\"artifact\",\n",
    "                        path=remote_path,\n",
    "                        src_path=code_zip)\n",
    "art.upload()\n",
    "\n",
    "\n",
    "# Create function and run\n",
    "func_build = proj.new_function(name=\"build\",\n",
    "                               kind=\"container\",\n",
    "                               image=\"digitalhub-core-streamlit:latest\",\n",
    "                               base_image=\"python:3.9-slim\")\n",
    "\n",
    "run_build = func_build.run(\"build\",\n",
    "                           context_refs=[{\n",
    "                               \"destination\": code_zip,\n",
    "                               \"protocol\": \"zip+s3\",\n",
    "                               \"source\": remote_path\n",
    "                           }],\n",
    "                           instructions=[\n",
    "                               \"apt-get update && apt-get install -y build-essential curl software-properties-common git\",\n",
    "                               \"rm -rf var/lib/apt/lists/*\",\n",
    "                               \"pip3 install -r requirements.txt\"\n",
    "                            ])"
   ]
  },
  {
   "cell_type": "code",
   "execution_count": null,
   "metadata": {},
   "outputs": [],
   "source": [
    "# Serve a container\n",
    "\n",
    "func_serve = proj.new_function(name=\"function-serve\",\n",
    "                               kind=\"container\",\n",
    "                               image=\"digitalhub-core-streamlit:latest\"\n",
    "                               command=\"streamlit\",\n",
    "                               args=[\"run\", \"app.py\", \"--server.fileWatcherType=none\"])\n",
    "run_serve = func_serve.run(\"serve\",\n",
    "                           service_ports= [{\"port\": 8085, \"target_port\": 8501}],\n",
    "                           service_type=\"NodePort\")"
   ]
  }
 ],
 "metadata": {
  "kernelspec": {
   "display_name": "Python 3 (ipykernel)",
   "language": "python",
   "name": "python3"
  },
  "language_info": {
   "codemirror_mode": {
    "name": "ipython",
    "version": 3
   },
   "file_extension": ".py",
   "mimetype": "text/x-python",
   "name": "python",
   "nbconvert_exporter": "python",
   "pygments_lexer": "ipython3",
   "version": "3.9.19"
  }
 },
 "nbformat": 4,
 "nbformat_minor": 4
}
