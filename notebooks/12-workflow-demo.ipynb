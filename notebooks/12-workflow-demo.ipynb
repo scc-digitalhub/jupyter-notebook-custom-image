{
 "cells": [
  {
   "cell_type": "code",
   "execution_count": null,
   "id": "b43996c5-d998-4ddf-bcfe-51d8077b6149",
   "metadata": {},
   "outputs": [],
   "source": [
    "%%writefile \"functions.py\"\n",
    "\n",
    "import mlrun\n",
    "import pandas as pd\n",
    "\n",
    "\n",
    "@mlrun.handler(outputs=[\"dataset\"])\n",
    "def downloader(context, url: mlrun.DataItem):\n",
    "    df = url.as_df(format=\"parquet\")\n",
    "    return df\n",
    "\n",
    "\n",
    "@mlrun.handler(outputs=[\"dataset-spire\"])\n",
    "def process_spire(context, di: mlrun.DataItem):\n",
    "    COLS=['codice spira','longitudine','latitudine','Livello','tipologia','codice','codice arco','codice via','Nome via', 'stato','direzione','angolo','geopoint']\n",
    "    df = di.as_df()\n",
    "    sdf= df.groupby(['codice spira']).first().reset_index()[COLS]\n",
    "    return sdf\n",
    "\n",
    "\n",
    "@mlrun.handler(outputs=[\"dataset-measures\"])\n",
    "def process_measure(context, di: mlrun.DataItem):\n",
    "    KEYS = ['00:00-01:00', '01:00-02:00', '02:00-03:00', '03:00-04:00', '04:00-05:00', '05:00-06:00', '06:00-07:00', '07:00-08:00', '08:00-09:00', '09:00-10:00', '10:00-11:00', '11:00-12:00', '12:00-13:00', '13:00-14:00', '14:00-15:00', '15:00-16:00', '16:00-17:00', '17:00-18:00', '18:00-19:00', '19:00-20:00', '20:00-21:00', '21:00-22:00', '22:00-23:00', '23:00-24:00']\n",
    "    COLUMNS=['data','codice spira']\n",
    "\n",
    "    df = di.as_df()\n",
    "    rdf = df[COLUMNS+KEYS]\n",
    "    ls = []\n",
    "    for key in KEYS:\n",
    "        k = key.split(\"-\")[0]\n",
    "        xdf = rdf[COLUMNS + [key]]\n",
    "        xdf['time'] = xdf.data.apply(lambda x: x+' ' +k)\n",
    "        xdf['value'] = xdf[key]\n",
    "        ls.append(xdf[['time','codice spira','value']])\n",
    "    edf = pd.concat(ls)\n",
    "    return edf"
   ]
  },
  {
   "cell_type": "code",
   "execution_count": null,
   "id": "d2a38cd4-fe4b-4cb2-a7fe-af721afb2019",
   "metadata": {},
   "outputs": [],
   "source": [
    "import digitalhub as dh\n",
    "\n",
    "# Get or create project\n",
    "project = dh.get_or_create_project(\"project-mlrun\")\n",
    "\n",
    "# Create new dataitem\n",
    "url = \"https://opendata.comune.bologna.it/api/explore/v2.1/catalog/datasets/rilevazione-flusso-veicoli-tramite-spire-anno-2023/exports/csv?lang=it&timezone=Europe%2FRome&use_labels=true&delimiter=%3B\"\n",
    "url_dataitem = project.new_dataitem(name=\"url-dataitem\",\n",
    "                                    kind=\"table\",\n",
    "                                    path=url)\n",
    "\n",
    "# Download dataitem as pandas.Dataframe and upload dataframe to minio\n",
    "df = url_dataitem.as_df(file_format=\"csv\", sep=\";\")\n",
    "s3_path = url_dataitem.write_df(df=df)\n",
    "\n",
    "\n",
    "# Create stored new dataitem\n",
    "s3_dataitem = project.new_dataitem(name=\"table-spire\",\n",
    "                                   kind=\"table\",\n",
    "                                   path=s3_path)"
   ]
  },
  {
   "cell_type": "code",
   "execution_count": null,
   "id": "5dfa45b9-347b-42ab-a136-81fac44331da",
   "metadata": {},
   "outputs": [],
   "source": [
    "# Create functions to execute\n",
    "downloader_function = project.new_function(name=\"mlrun-downloader\",\n",
    "                                           kind=\"mlrun\",\n",
    "                                           source={\"source\":\"functions.py\"},\n",
    "                                           handler=\"downloader\",\n",
    "                                           image=\"mlrun/mlrun\")\n",
    "\n",
    "\n",
    "process_spire_function = project.new_function(name=\"mlrun-process-spire\",\n",
    "                                              kind=\"mlrun\",\n",
    "                                              source={\"source\":\"functions.py\"},\n",
    "                                              handler=\"process_spire\",\n",
    "                                              image=\"mlrun/mlrun\")\n",
    "\n",
    "process_measure_function = project.new_function(name=\"mlrun-process-measure\",\n",
    "                                                kind=\"mlrun\",\n",
    "                                                source={\"source\":\"functions.py\"},\n",
    "                                                handler=\"process_measure\",\n",
    "                                                image=\"mlrun/mlrun\")"
   ]
  },
  {
   "cell_type": "code",
   "execution_count": null,
   "id": "306638c4-b9ad-4c78-a89a-ea86eb3cb6c4",
   "metadata": {},
   "outputs": [],
   "source": [
    "import os\n",
    "os.environ[\"DH_RUN_SECRET_NAME\"] = \"\"\n",
    "\n",
    "# Create workflow\n",
    "workflow = project.new_workflow(name=\"mlrun-workflow\",\n",
    "                                kind=\"kfp\",\n",
    "                                source={\"source\": \"pipeline.py\"})"
   ]
  },
  {
   "cell_type": "code",
   "execution_count": null,
   "id": "09213d6d-2325-41e7-b024-40c07d4158a8",
   "metadata": {},
   "outputs": [],
   "source": [
    "# Run workflow\n",
    "run = workflow.run(parameters={\"di_key\": s3_dataitem.key}, local_execution=True)"
   ]
  }
 ],
 "metadata": {
  "kernelspec": {
   "display_name": "Python 3 (ipykernel)",
   "language": "python",
   "name": "python3"
  },
  "language_info": {
   "codemirror_mode": {
    "name": "ipython",
    "version": 3
   },
   "file_extension": ".py",
   "mimetype": "text/x-python",
   "name": "python",
   "nbconvert_exporter": "python",
   "pygments_lexer": "ipython3",
   "version": "3.9.19"
  }
 },
 "nbformat": 4,
 "nbformat_minor": 5
}
