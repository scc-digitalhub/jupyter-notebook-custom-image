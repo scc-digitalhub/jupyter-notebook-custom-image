{
 "cells": [
  {
   "cell_type": "code",
   "execution_count": null,
   "metadata": {},
   "outputs": [],
   "source": [
    "%%writefile func.py\n",
    "\n",
    "from digitalhub_runtime_python import handler\n",
    "import pandas as pd\n",
    "\n",
    "@handler(outputs=[\"data\", \"test\"])\n",
    "def example(col: str):\n",
    "    data = {col: [1,2,3]}\n",
    "    df = pd.DataFrame(data)\n",
    "    return df, \"label\""
   ]
  },
  {
   "cell_type": "code",
   "execution_count": null,
   "metadata": {},
   "outputs": [],
   "source": [
    "import digitalhub as dh\n",
    "\n",
    "proj = dh.get_or_create_project(\"project-python\")"
   ]
  },
  {
   "cell_type": "code",
   "execution_count": null,
   "metadata": {},
   "outputs": [],
   "source": [
    "# Create python function\n",
    "\n",
    "func = proj.new_function(name=\"function-python\",\n",
    "                         kind=\"python\", python_version=\"PYTHON3_9\",\n",
    "                         code_src=\"func.py\"\n",
    "                         handler=\"example\")"
   ]
  },
  {
   "cell_type": "code",
   "execution_count": null,
   "metadata": {},
   "outputs": [],
   "source": [
    "# Run python function\n",
    "\n",
    "run = func.run(\"job\",\n",
    "               parameters={\"col\": \"test\"},\n",
    "               outputs={\"data\": \"data\", \"test\":\"test\"})"
   ]
  },
  {
   "cell_type": "code",
   "execution_count": null,
   "metadata": {},
   "outputs": [],
   "source": [
    "# Refresh run\n",
    "\n",
    "run.refresh()"
   ]
  }
 ],
 "metadata": {
  "kernelspec": {
   "display_name": "Python 3 (ipykernel)",
   "language": "python",
   "name": "python3"
  },
  "language_info": {
   "codemirror_mode": {
    "name": "ipython",
    "version": 3
   },
   "file_extension": ".py",
   "mimetype": "text/x-python",
   "name": "python",
   "nbconvert_exporter": "python",
   "pygments_lexer": "ipython3",
   "version": "3.9.19"
  }
 },
 "nbformat": 4,
 "nbformat_minor": 4
}
